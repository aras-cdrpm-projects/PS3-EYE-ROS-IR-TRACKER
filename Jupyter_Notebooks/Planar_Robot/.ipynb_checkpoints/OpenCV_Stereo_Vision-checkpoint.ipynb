{
 "cells": [
  {
   "cell_type": "code",
   "execution_count": 1,
   "metadata": {},
   "outputs": [],
   "source": [
    "import cv2\n",
    "import os\n",
    "from camera_calibration_parsers import readCalibration\n",
    "import numpy as np"
   ]
  },
  {
   "cell_type": "code",
   "execution_count": 6,
   "metadata": {},
   "outputs": [
    {
     "ename": "TypeError",
     "evalue": "'NoneType' object is not iterable",
     "output_type": "error",
     "traceback": [
      "\u001b[0;31m---------------------------------------------------------------------------\u001b[0m",
      "\u001b[0;31mTypeError\u001b[0m                                 Traceback (most recent call last)",
      "\u001b[0;32m<ipython-input-6-9514eade6367>\u001b[0m in \u001b[0;36m<module>\u001b[0;34m()\u001b[0m\n\u001b[0;32m----> 1\u001b[0;31m \u001b[0mleft_camera_name\u001b[0m\u001b[0;34m,\u001b[0m \u001b[0mleft_camera_info\u001b[0m \u001b[0;34m=\u001b[0m \u001b[0mreadCalibration\u001b[0m\u001b[0;34m(\u001b[0m\u001b[0mos\u001b[0m\u001b[0;34m.\u001b[0m\u001b[0mpath\u001b[0m\u001b[0;34m.\u001b[0m\u001b[0mjoin\u001b[0m\u001b[0;34m(\u001b[0m\u001b[0;34m'left.yaml'\u001b[0m\u001b[0;34m)\u001b[0m\u001b[0;34m)\u001b[0m\u001b[0;34m\u001b[0m\u001b[0;34m\u001b[0m\u001b[0m\n\u001b[0m\u001b[1;32m      2\u001b[0m \u001b[0mright_camera_name\u001b[0m\u001b[0;34m,\u001b[0m \u001b[0mright_camera_info\u001b[0m \u001b[0;34m=\u001b[0m \u001b[0mreadCalibration\u001b[0m\u001b[0;34m(\u001b[0m\u001b[0mos\u001b[0m\u001b[0;34m.\u001b[0m\u001b[0mpath\u001b[0m\u001b[0;34m.\u001b[0m\u001b[0mjoin\u001b[0m\u001b[0;34m(\u001b[0m\u001b[0;34m'right.yaml'\u001b[0m\u001b[0;34m)\u001b[0m\u001b[0;34m)\u001b[0m\u001b[0;34m\u001b[0m\u001b[0;34m\u001b[0m\u001b[0m\n",
      "\u001b[0;31mTypeError\u001b[0m: 'NoneType' object is not iterable"
     ]
    }
   ],
   "source": [
    "left_camera_name, left_camera_info = readCalibration(os.path.join('/home/rouholla/left.yml'))\n",
    "right_camera_name, right_camera_info = readCalibration(os.path.join('/home/rouholla/right.yml'))"
   ]
  },
  {
   "cell_type": "code",
   "execution_count": null,
   "metadata": {},
   "outputs": [],
   "source": [
    "lK=np.array(left_camera_info.K).reshape(3,3)\n",
    "lD=np.array(left_camera_info.D).reshape(1,5)\n",
    "lP=np.array(left_camera_info.P).reshape(3,4)\n",
    "lR=np.array(left_camera_info.R).reshape(3,3)\n",
    "\n",
    "rK=np.array(right_camera_info.K).reshape(3,3)\n",
    "rD=np.array(right_camera_info.D).reshape(1,5)\n",
    "rP=np.array(right_camera_info.P).reshape(3,4)\n",
    "rR=np.array(right_camera_info.R).reshape(3,3)\n",
    "\n",
    "lpts=np.array([329.875, 378.875]).reshape(1,2)\n",
    "rpts=np.array([336.5, 334.5]).reshape(1,2)"
   ]
  },
  {
   "cell_type": "code",
   "execution_count": 138,
   "metadata": {},
   "outputs": [],
   "source": [
    "lpts_ud = cv2.undistortPoints(lpts.reshape(-1,1,2).astype(np.float32), lK, lD,P=lP,R=lR)\n",
    "rpts_ud = cv2.undistortPoints(rpts.reshape(-1,1,2).astype(np.float32), rK, rD,P=rP,R=rR)\n",
    "\n",
    "lpts_ud = cv2.convertPointsToHomogeneous(np.float32(lpts_ud))\n",
    "rpts_ud = cv2.convertPointsToHomogeneous(np.float32(rpts_ud))"
   ]
  },
  {
   "cell_type": "markdown",
   "metadata": {},
   "source": [
    "If the stereo rectification is right, the y component of the feature points as seen by the two cameras should be close to each other."
   ]
  },
  {
   "cell_type": "code",
   "execution_count": 139,
   "metadata": {},
   "outputs": [
    {
     "data": {
      "text/plain": [
       "(array([[[424.92633, 343.81207]]], dtype=float32),\n",
       " array([[[239.6837 , 343.18216]]], dtype=float32))"
      ]
     },
     "execution_count": 139,
     "metadata": {},
     "output_type": "execute_result"
    }
   ],
   "source": [
    "lpts_ud,rpts_ud "
   ]
  },
  {
   "cell_type": "code",
   "execution_count": 140,
   "metadata": {},
   "outputs": [],
   "source": [
    "res=cv2.triangulatePoints(lP,rP,lpts_ud[0:1],rpts_ud[0:1])"
   ]
  },
  {
   "cell_type": "code",
   "execution_count": 141,
   "metadata": {},
   "outputs": [
    {
     "name": "stdout",
     "output_type": "stream",
     "text": [
      "[[0.2852299 ]\n",
      " [0.20254199]\n",
      " [1.324155  ]\n",
      " [1.        ]]\n"
     ]
    }
   ],
   "source": [
    "\n",
    "res=res/res[3]\n",
    "print(res)"
   ]
  },
  {
   "cell_type": "markdown",
   "metadata": {},
   "source": [
    "Through comaring the results with the implementation at the lab, I can now verify that this code is reliable."
   ]
  },
  {
   "cell_type": "code",
   "execution_count": null,
   "metadata": {},
   "outputs": [],
   "source": []
  }
 ],
 "metadata": {
  "kernelspec": {
   "display_name": "Python 2",
   "language": "python",
   "name": "python2"
  },
  "language_info": {
   "codemirror_mode": {
    "name": "ipython",
    "version": 2
   },
   "file_extension": ".py",
   "mimetype": "text/x-python",
   "name": "python",
   "nbconvert_exporter": "python",
   "pygments_lexer": "ipython2",
   "version": "2.7.15+"
  }
 },
 "nbformat": 4,
 "nbformat_minor": 2
}
