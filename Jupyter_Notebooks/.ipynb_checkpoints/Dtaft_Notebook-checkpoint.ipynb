{
 "cells": [
  {
   "cell_type": "code",
   "execution_count": null,
   "metadata": {},
   "outputs": [],
   "source": [
    "from __future__ import print_function\n",
    "import roslib\n",
    "import sys\n",
    "import rospy\n",
    "import cv2\n",
    "import os\n",
    "from std_msgs.msg import String\n",
    "from sensor_msgs.msg import Image\n",
    "from cv_bridge import CvBridge, CvBridgeError\n",
    "from camera_calibration_parsers import readCalibration\n",
    "from subprocess import call\n",
    "import subprocess"
   ]
  },
  {
   "cell_type": "code",
   "execution_count": null,
   "metadata": {},
   "outputs": [],
   "source": [
    "tst=subprocess.Popen(['v4l2-ctl', '--list-devices'],stdout=subprocess.PIPE)\n",
    "comInfo = tst.stdout.read()\n",
    "info = comInfo.split('USB Camera')[1:]\n",
    "if rospy.has_param('~usb_port'):\n",
    "    port=rospy.get_param('~usb_port')\n",
    "def cam_sorder(camString,info):\n",
    "    found={}\n",
    "    for lst in info:\n",
    "        for idx in camString:\n",
    "            if lst.find(idx) is not -1:\n",
    "                found[idx]=lst[lst.find('video')+5]\n",
    "    return found\n",
    "cams=cam_sorder(port,info)\n",
    "camera_id=int(cams[port[0]])\n",
    "print(camera_id)"
   ]
  },
  {
   "cell_type": "code",
   "execution_count": null,
   "metadata": {},
   "outputs": [],
   "source": [
    "rospy.set_param('~fps',50)"
   ]
  },
  {
   "cell_type": "code",
   "execution_count": null,
   "metadata": {},
   "outputs": [],
   "source": [
    "rospy.get_param('~fps')"
   ]
  },
  {
   "cell_type": "code",
   "execution_count": null,
   "metadata": {},
   "outputs": [],
   "source": [
    "import cv2\n",
    "Cap = cv2.VideoCapture(int(camera_id))"
   ]
  },
  {
   "cell_type": "code",
   "execution_count": null,
   "metadata": {},
   "outputs": [],
   "source": [
    "Cap.set(cv2.CAP_PROP_BUFFERSIZE,1)"
   ]
  },
  {
   "cell_type": "code",
   "execution_count": null,
   "metadata": {},
   "outputs": [],
   "source": [
    "from sensor_msgs.msg import CameraInfo\n",
    "import threading"
   ]
  },
  {
   "cell_type": "code",
   "execution_count": null,
   "metadata": {},
   "outputs": [],
   "source": [
    "info=CameraInfo()"
   ]
  },
  {
   "cell_type": "code",
   "execution_count": null,
   "metadata": {},
   "outputs": [],
   "source": [
    "rospy.init_node('test_node')\n"
   ]
  },
  {
   "cell_type": "code",
   "execution_count": null,
   "metadata": {},
   "outputs": [],
   "source": [
    "info.header.stamp.to_sec()\n",
    "image=Image()"
   ]
  },
  {
   "cell_type": "code",
   "execution_count": null,
   "metadata": {},
   "outputs": [],
   "source": [
    "from camera_image_publisher.srv import set_gain\n",
    "def handle_set_gain(req):\n",
    "    print(req.gain)\n",
    "    return True"
   ]
  },
  {
   "cell_type": "code",
   "execution_count": null,
   "metadata": {},
   "outputs": [],
   "source": [
    "rospy.Service('set_gain',set_gain,handle_set_gain)"
   ]
  },
  {
   "cell_type": "code",
   "execution_count": null,
   "metadata": {},
   "outputs": [],
   "source": [
    "t1=threading.Thread(target=rospy.spin)"
   ]
  },
  {
   "cell_type": "code",
   "execution_count": null,
   "metadata": {},
   "outputs": [],
   "source": [
    "rospy.spin()"
   ]
  },
  {
   "cell_type": "code",
   "execution_count": null,
   "metadata": {},
   "outputs": [],
   "source": [
    "t1.start()\n",
    "t1.daemon=True"
   ]
  },
  {
   "cell_type": "code",
   "execution_count": null,
   "metadata": {},
   "outputs": [],
   "source": [
    "import rospy\n",
    "import cv2\n",
    "from cv_bridge import CvBridge\n",
    "from ir_marker_extractor.msg import ir_markers\n",
    "from geometry_msgs.msg import Point\n",
    "from sensor_msgs.msg import Image\n",
    "from pyclustering.cluster.bsas import bsas\n",
    "import numpy as np\n",
    "markers=ir_markers()\n"
   ]
  },
  {
   "cell_type": "code",
   "execution_count": null,
   "metadata": {},
   "outputs": [
    {
     "name": "stderr",
     "output_type": "stream",
     "text": [
      "[WARN] [1584488578.142885]: Inbound TCP/IP connection failed: connection from sender terminated before handshake header received. 0 bytes were received. Please check sender for additional details.\n"
     ]
    }
   ],
   "source": [
    "import rospy\n",
    "import cv2\n",
    "from cv_bridge import CvBridge\n",
    "from ir_marker_extractor.msg import ir_markers\n",
    "from geometry_msgs.msg import Point\n",
    "from sensor_msgs.msg import Image\n",
    "from pyclustering.cluster.bsas import bsas\n",
    "import numpy as np\n",
    "class markerExteractor(object):\n",
    "    def __init__(self):\n",
    "        self.max_clusters = 8\n",
    "        self.threshold = 20\n",
    "        self.blubParams = cv2.SimpleBlobDetector_Params()\n",
    "        self.blubParams.minThreshold = 50;\n",
    "        self.blubParams.maxThreshold = 255;\n",
    "        self.blubParams.filterByArea = True\n",
    "        self.blubParams.minArea = 0\n",
    "        self.blubParams.filterByCircularity = True\n",
    "        self.blubParams.minCircularity = 0.3\n",
    "        self.blubParams.filterByConvexity = True\n",
    "        self.blubParams.minConvexity = 0.7\n",
    "        self.blubParams.filterByInertia = True\n",
    "        self.blubParams.minInertiaRatio = 0.1\n",
    "        self.blubParams.blobColor = 255\n",
    "        ver = (cv2.__version__).split('.')\n",
    "        if int(ver[0]) < 3 :\n",
    "            self.blubDetector = cv2.SimpleBlobDetector(self.blubParams)\n",
    "        else : \n",
    "            self.blubDetector = cv2.SimpleBlobDetector_create(self.blubParams)\n",
    "    def detect(self,frame):\n",
    "        self.cms=[]\n",
    "        self.image_ROIs=[]\n",
    "        self.keypoints=[]\n",
    "        if len(frame.shape)==2:\n",
    "            img_gray=frame\n",
    "        else:  \n",
    "            img_gray=cv2.cvtColor(frame, cv2.COLOR_BGR2GRAY)\n",
    "        ret,img_thresh = cv2.threshold(img_gray,100,255,cv2.THRESH_TOZERO)\n",
    "        #Find the clusters\n",
    "        self.nonzro_samples = cv2.findNonZero(img_thresh)\n",
    "        if self.nonzro_samples is None:\n",
    "            return -1,None  #No markers in the image\n",
    "        else:\n",
    "            self.nonzro_samples=self.nonzro_samples.reshape(-1, 2).astype('float32')\n",
    "        if self.nonzro_samples.shape[0]<300:\n",
    "            bsas_instance = bsas(self.nonzro_samples, self.max_clusters, self.threshold)\n",
    "            bsas_instance.process()\n",
    "            clusters = bsas_instance.get_clusters()\n",
    "            #Calculate the center of the clusters and the Regions of Interests\n",
    "            self.ROIs=np.zeros((len(clusters),4))\n",
    "            for i,cluster in enumerate(clusters):\n",
    "                current_batch=self.nonzro_samples[cluster]\n",
    "                self.cms.append(np.sum(current_batch,axis=0)/current_batch.shape[0])\n",
    "                row_max=np.max(current_batch[:,1],axis=0)+6\n",
    "                row_min=np.min(current_batch[:,1],axis=0)-6\n",
    "                col_max=np.max(current_batch[:,0],axis=0)+6\n",
    "                col_min=np.min(current_batch[:,0],axis=0)-6\n",
    "                self.ROIs[i,:]=[row_min,row_max,col_min,col_max]\n",
    "            for roi in self.ROIs.astype('int32'):\n",
    "                self.image_ROIs.append(img_thresh.copy()[roi[0]:roi[1],roi[2]:roi[3]])\n",
    "            #Return The Results\n",
    "            marker_points=[]\n",
    "            for i,roi in enumerate(self.image_ROIs):\n",
    "                keys_in_roi=self.blubDetector.detect(roi)\n",
    "                for key in keys_in_roi:\n",
    "                    #Calculate the global coordinate of marker points. The points are returned in (X(Col),Y(Row)) coordinate. \n",
    "                    marker_points.append([key.pt[0]+self.ROIs.astype('float32')[i,2],key.pt[1]+self.ROIs.astype('float32')[i,0]])\n",
    "            return 0,np.array(marker_points)\n",
    "        else:\n",
    "            return -2,None\n",
    "    \n",
    "bridge=CvBridge()\n",
    "marker_extractor=markerExteractor()\n",
    "markers_msg=ir_markers()\n",
    "\n",
    "def image_callback(image):\n",
    "    cv_image=bridge.imgmsg_to_cv2(image,desired_encoding='mono8')\n",
    "    #print(cv_image.shape)\n",
    "    status,markers=marker_extractor.detect(cv_image)\n",
    "    if status==-2: #too many white pixels in the image\n",
    "        #print('too many white pixels dtected in the image')\n",
    "        markers_msg.status=status\n",
    "        markers_msg.header.stamp=image.header.stamp\n",
    "        pub.publish(markers_msg)\n",
    "        return\n",
    "    if status==-1 or len(markers)==0: #no markers in the image\n",
    "        #print('no markers in the image')\n",
    "        markers_msg.status=status\n",
    "        markers_msg.header.stamp=image.header.stamp\n",
    "        pub.publish(markers_msg)\n",
    "        return\n",
    "    marker_list=[]\n",
    "    for marker in markers:\n",
    "        marker_list.append(Point(marker[0],marker[1],0))\n",
    "    markers_msg.status=status\n",
    "    markers_msg.header.stamp=image.header.stamp\n",
    "    markers_msg.markers=markers_msg.markers=marker_list\n",
    "    #[Point(np.random.randn(),2,3),Point(4,5,6)]#\n",
    "    pub.publish(markers_msg)\n",
    "    \n",
    "rospy.init_node('ir_marker_extractor_node')\n",
    "pub=rospy.Publisher('/ir_markers',ir_markers,queue_size=1)\n",
    "rospy.Subscriber('/camera/image_raw',Image,image_callback)\n",
    "rospy.spin()"
   ]
  },
  {
   "cell_type": "code",
   "execution_count": null,
   "metadata": {},
   "outputs": [],
   "source": [
    "markers_msg=ir_markers()\n",
    "np.random.randn()"
   ]
  }
 ],
 "metadata": {
  "kernelspec": {
   "display_name": "Python 3",
   "language": "python",
   "name": "python3"
  },
  "language_info": {
   "codemirror_mode": {
    "name": "ipython",
    "version": 2
   },
   "file_extension": ".py",
   "mimetype": "text/x-python",
   "name": "python",
   "nbconvert_exporter": "python",
   "pygments_lexer": "ipython2",
   "version": "2.7.12"
  },
  "latex_envs": {
   "LaTeX_envs_menu_present": true,
   "autoclose": false,
   "autocomplete": true,
   "bibliofile": "biblio.bib",
   "cite_by": "apalike",
   "current_citInitial": 1,
   "eqLabelWithNumbers": true,
   "eqNumInitial": 1,
   "hotkeys": {
    "equation": "Ctrl-E",
    "itemize": "Ctrl-I"
   },
   "labels_anchors": false,
   "latex_user_defs": false,
   "report_style_numbering": false,
   "user_envs_cfg": false
  },
  "toc": {
   "base_numbering": 1,
   "nav_menu": {},
   "number_sections": true,
   "sideBar": true,
   "skip_h1_title": false,
   "title_cell": "Table of Contents",
   "title_sidebar": "Contents",
   "toc_cell": false,
   "toc_position": {},
   "toc_section_display": true,
   "toc_window_display": false
  }
 },
 "nbformat": 4,
 "nbformat_minor": 2
}
